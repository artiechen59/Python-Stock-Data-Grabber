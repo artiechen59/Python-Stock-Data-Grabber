{
 "cells": [
  {
   "cell_type": "code",
   "execution_count": 1,
   "metadata": {},
   "outputs": [],
   "source": [
    "from finlab.crawler import table_date_range, update_table, to_pickle, out, commit\n",
    "import datetime\n",
    "from io import StringIO\n",
    "import requests\n",
    "from bs4 import BeautifulSoup\n",
    "import time\n",
    "\n",
    "import numpy as np\n",
    "#import matplotlib.pyplot as plt\n",
    "import pandas as pd\n",
    "from pandas import ExcelWriter\n",
    "from pandas import ExcelFile\n",
    "#import pandas_datareader.data as web\n",
    "from datetime import datetime, timedelta,date\n",
    "import os\n",
    "from openpyxl import load_workbook"
   ]
  },
  {
   "cell_type": "code",
   "execution_count": 2,
   "metadata": {},
   "outputs": [],
   "source": [
    "df = pd.read_pickle(\"history/tables/price_new.pkl\")"
   ]
  },
  {
   "cell_type": "code",
   "execution_count": 3,
   "metadata": {},
   "outputs": [
    {
     "name": "stdout",
     "output_type": "stream",
     "text": [
      "                            成交股數 成交筆數       成交金額    收盤價    開盤價    最低價    最高價  \\\n",
      "stock_id    date                                                               \n",
      "0050 元大台灣50 2003-07-01  14290000  NaN  536078000  38.05  37.09  37.09   38.1   \n",
      "            2003-07-02  16232000  NaN  625637000  38.69  38.17   38.1  38.82   \n",
      "            2003-07-03  16839000  NaN  661217000     39   40.6  38.81   40.6   \n",
      "            2003-07-04  12491000  NaN  487754000  39.26   39.1  38.75  39.26   \n",
      "            2003-07-07  19461000  NaN  784968000     41   39.6   39.6     41   \n",
      "\n",
      "                       最後揭示買價 最後揭示賣價  \n",
      "stock_id    date                      \n",
      "0050 元大台灣50 2003-07-01    NaN    NaN  \n",
      "            2003-07-02    NaN    NaN  \n",
      "            2003-07-03    NaN    NaN  \n",
      "            2003-07-04    NaN    NaN  \n",
      "            2003-07-07    NaN    NaN  \n",
      "                            成交股數  成交筆數        成交金額    收盤價    開盤價    最低價  \\\n",
      "stock_id    date                                                          \n",
      "0050 元大台灣50 2019-07-01  13771395  5806  1137417652  82.65  82.05  82.05   \n",
      "            2019-07-02   5209290  2310   429828229  82.45  82.65  82.40   \n",
      "            2019-07-03   8615424  2877   703409269  81.50  82.35  81.35   \n",
      "            2019-07-04   5777556  1447   473795392  82.00  81.80  81.80   \n",
      "            2019-07-05   1612933  1054   132235865  81.90  82.10  81.80   \n",
      "\n",
      "                          最高價 最後揭示買價 最後揭示賣價  \n",
      "stock_id    date                             \n",
      "0050 元大台灣50 2019-07-01  82.80  82.65  82.70  \n",
      "            2019-07-02  82.70  82.45  82.50  \n",
      "            2019-07-03  82.35  81.45  81.50  \n",
      "            2019-07-04  82.20  82.00  82.05  \n",
      "            2019-07-05  82.35  81.90  81.95  \n"
     ]
    }
   ],
   "source": [
    "print(df[df.index.get_level_values('stock_id')=='0050 元大台灣50'].head())\n",
    "print(df[df.index.get_level_values('stock_id')=='0050 元大台灣50'].tail())"
   ]
  },
  {
   "cell_type": "code",
   "execution_count": null,
   "metadata": {},
   "outputs": [],
   "source": []
  }
 ],
 "metadata": {
  "kernelspec": {
   "display_name": "finlab",
   "language": "python",
   "name": "finlab"
  },
  "language_info": {
   "codemirror_mode": {
    "name": "ipython",
    "version": 3
   },
   "file_extension": ".py",
   "mimetype": "text/x-python",
   "name": "python",
   "nbconvert_exporter": "python",
   "pygments_lexer": "ipython3",
   "version": "3.6.8"
  }
 },
 "nbformat": 4,
 "nbformat_minor": 2
}
