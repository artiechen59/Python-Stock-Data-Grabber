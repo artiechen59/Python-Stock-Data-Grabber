{
 "cells": [
  {
   "cell_type": "code",
   "execution_count": 1,
   "metadata": {},
   "outputs": [],
   "source": [
    "from finlab.crawler import table_date_range, update_table, to_pickle, out, commit,merge, date_range\n",
    "import datetime\n",
    "from io import StringIO\n",
    "import requests\n",
    "from bs4 import BeautifulSoup\n",
    "import time\n",
    "\n",
    "import numpy as np\n",
    "#import matplotlib.pyplot as plt\n",
    "import pandas as pd\n",
    "from pandas import ExcelWriter\n",
    "from pandas import ExcelFile\n",
    "#import pandas_datareader.data as web\n",
    "\n",
    "import os\n",
    "from openpyxl import load_workbook\n",
    "\n",
    "def MarginTrading(date):\n",
    "    URL = 'https://www.twse.com.tw/exchangeReport/MI_MARGN?response=csv&date='+date.strftime(\"%Y%m%d\")+'&selectType=ALL'\n",
    "    res = requests.get(URL)\n",
    "    \n",
    "    if len(res.text) < 1000:\n",
    "        print('holiday')\n",
    "        return pd.DataFrame()\n",
    "\n",
    "   \n",
    "    df1 = pd.read_csv(StringIO(res.text.replace(\"=\", \"\")), header=1,skiprows=6,skipfooter=7, engine='python')\n",
    "   \n",
    "    df1 = df1.dropna(how='all', axis=0).dropna(how='all', axis=1)\n",
    "    df1=df1[df1['股票代號'].notna()]\n",
    "\n",
    "    id=[]\n",
    "\n",
    "    for i in range(len(df1)):\n",
    "        id.append(str(df1['股票代號'][i]).replace(' ','')+' '+str(df1['股票名稱'][i]).replace(' ',''))\n",
    "    #print(id)\n",
    "\n",
    "    df1['stock_id']=id\n",
    "    df1['date']=date\n",
    "\n",
    "    df1=df1.set_index(['stock_id', 'date'])\n",
    "    df1=df1.drop(columns=['股票代號', '股票名稱','註記'])\n",
    "    df1=df1.rename(columns={\"買進\": \"融資買進\",\"賣出\": \"融資賣出\",\"前日餘額\": \"融資前日餘額\",\"今日餘額\": \"融資今日餘額\",\"限額\": \"融資限額\",\n",
    "                            \"買進.1\": \"融券買進\",\"賣出.1\": \"融券賣出\",\"前日餘額.1\": \"融券前日餘額\",\"今日餘額.1\": \"融券今日餘額\",\"限額.1\": \"融券限額\"})\n",
    "    df1 = df1.apply(lambda s: s.astype(str).str.replace(\",\", \"\"))\n",
    "    df1 = df1.dropna(how='all', axis=0).dropna(how='all', axis=1)\n",
    "    print(df1.sort_index(level='date', ascending=True).head(1).index.get_level_values('date'))\n",
    "    return df1"
   ]
  },
  {
   "cell_type": "code",
   "execution_count": 2,
   "metadata": {},
   "outputs": [
    {
     "data": {
      "text/plain": [
       "DatetimeIndex(['2001-01-02', '2001-01-03', '2001-01-04', '2001-01-05',\n",
       "               '2001-01-08', '2001-01-09', '2001-01-10', '2001-01-11',\n",
       "               '2001-01-12', '2001-01-15',\n",
       "               ...\n",
       "               '2020-06-01', '2020-06-02', '2020-06-03', '2020-06-04',\n",
       "               '2020-06-05', '2020-06-08', '2020-06-09', '2020-06-10',\n",
       "               '2020-06-11', '2020-06-12'],\n",
       "              dtype='datetime64[ns]', name='date', length=4803, freq=None)"
      ]
     },
     "execution_count": 2,
     "metadata": {},
     "output_type": "execute_result"
    }
   ],
   "source": [
    "#get last date of database\n",
    "df = pd.read_pickle(\"history/tables/margin_trading.pkl\")\n",
    "df.index.get_level_values('date').drop_duplicates(keep = 'first') .sort_values()\n"
   ]
  },
  {
   "cell_type": "code",
   "execution_count": 10,
   "metadata": {},
   "outputs": [
    {
     "name": "stdout",
     "output_type": "stream",
     "text": [
      "DatetimeIndex(['2020-05-29'], dtype='datetime64[ns]', name='date', freq=None)\n",
      "holiday\n",
      "holiday\n",
      "DatetimeIndex(['2020-06-01'], dtype='datetime64[ns]', name='date', freq=None)\n",
      "DatetimeIndex(['2020-06-02'], dtype='datetime64[ns]', name='date', freq=None)\n",
      "DatetimeIndex(['2020-06-03'], dtype='datetime64[ns]', name='date', freq=None)\n",
      "DatetimeIndex(['2020-06-04'], dtype='datetime64[ns]', name='date', freq=None)\n",
      "DatetimeIndex(['2020-06-05'], dtype='datetime64[ns]', name='date', freq=None)\n",
      "holiday\n",
      "holiday\n",
      "DatetimeIndex(['2020-06-08'], dtype='datetime64[ns]', name='date', freq=None)\n",
      "DatetimeIndex(['2020-06-09'], dtype='datetime64[ns]', name='date', freq=None)\n",
      "DatetimeIndex(['2020-06-10'], dtype='datetime64[ns]', name='date', freq=None)\n",
      "DatetimeIndex(['2020-06-11'], dtype='datetime64[ns]', name='date', freq=None)\n",
      "DatetimeIndex(['2020-06-12'], dtype='datetime64[ns]', name='date', freq=None)\n"
     ]
    }
   ],
   "source": [
    "df_combined=pd.DataFrame()\n",
    "days=pd.date_range(start=\"2020-05-29\",end=\"2020-06-12\")\n",
    "for date in days:\n",
    "    df_tmp=MarginTrading(date)\n",
    "    df_combined=df_combined.append(df_tmp)\n",
    "    time.sleep(7)\n",
    "#print(df_combined[df_combined.index.get_level_values('stock_id')==\"1101 台泥\"].head())"
   ]
  },
  {
   "cell_type": "code",
   "execution_count": null,
   "metadata": {},
   "outputs": [],
   "source": [
    "df_combined[df_combined.index.get_level_values('stock_id')==\"1101 台泥\"]\n",
    "df_combined.index.get_level_values('date').drop_duplicates(keep = 'first')"
   ]
  },
  {
   "cell_type": "code",
   "execution_count": null,
   "metadata": {},
   "outputs": [],
   "source": []
  },
  {
   "cell_type": "code",
   "execution_count": 13,
   "metadata": {},
   "outputs": [
    {
     "name": "stdout",
     "output_type": "stream",
     "text": [
      "                     融資買進  融資賣出 現金償還 融資前日餘額 融資今日餘額    融資限額 融券買進 融券賣出 現券償還  \\\n",
      "stock_id date                                                               \n",
      "1101 台泥  2001-01-02  1666  2096   33  73114  72651  593055  118   51    0   \n",
      "         2001-01-03  2224  2697   22  72651  72156  593055  879  146    0   \n",
      "         2001-01-04  4312  3665  132  72027  72542  593055  101  288    0   \n",
      "         2001-01-05  3705  1863   56  72542  74328  593055  279    0    3   \n",
      "         2001-01-08  3275  1977  375  74354  75277  593055   14    6    6   \n",
      "\n",
      "                    融券前日餘額 融券今日餘額    融券限額  資券互抵  \n",
      "stock_id date                                    \n",
      "1101 台泥  2001-01-02   1449   1382  593055  1438  \n",
      "         2001-01-03   1382    649  593055  2344  \n",
      "         2001-01-04    644    831  593055  3618  \n",
      "         2001-01-05    831    549  593055    11  \n",
      "         2001-01-08    549    535  593055   560  \n",
      "                    融資買進 融資賣出 現金償還 融資前日餘額 融資今日餘額     融資限額 融券買進 融券賣出 現券償還  \\\n",
      "stock_id date                                                              \n",
      "1101 台泥  2020-06-08  305  164    1   5137   5277  1366404    1   15    0   \n",
      "         2020-06-09  207   91    0   5277   5393  1366404    1    0    0   \n",
      "         2020-06-10   20  388    0   5393   5025  1366404    1    7    0   \n",
      "         2020-06-11  146  415    0   5025   4756  1366404   23    4    0   \n",
      "         2020-06-12  167   71    0   4756   4852  1366404   26   51    0   \n",
      "\n",
      "                    融券前日餘額 融券今日餘額     融券限額 資券互抵  \n",
      "stock_id date                                    \n",
      "1101 台泥  2020-06-08    486    500  1366404    0  \n",
      "         2020-06-09    500    499  1366404    0  \n",
      "         2020-06-10    499    505  1366404    0  \n",
      "         2020-06-11    505    486  1366404    0  \n",
      "         2020-06-12    486    511  1366404    0  \n",
      "margin_trading -- 融資買進\n",
      "margin_trading -- 融資賣出\n",
      "margin_trading -- 現金償還\n",
      "margin_trading -- 融資前日餘額\n",
      "margin_trading -- 融資今日餘額\n",
      "margin_trading -- 融資限額\n",
      "margin_trading -- 融券買進\n",
      "margin_trading -- 融券賣出\n",
      "margin_trading -- 現券償還\n",
      "margin_trading -- 融券前日餘額\n",
      "margin_trading -- 融券今日餘額\n",
      "margin_trading -- 融券限額\n",
      "margin_trading -- 資券互抵\n"
     ]
    }
   ],
   "source": [
    "#df = pd.read_pickle(\"history/tables/margin_trading.pkl\")\n",
    "df=df.append(df_combined)\n",
    "df=df.sort_index()\n",
    "\n",
    "df=df.drop_duplicates(keep = 'first', inplace = True) \n",
    "print(df[df.index.get_level_values('stock_id')==\"1101 台泥\"].head())\n",
    "print(df[df.index.get_level_values('stock_id')==\"1101 台泥\"].tail())\n",
    "to_pickle(df, 'margin_trading')"
   ]
  },
  {
   "cell_type": "code",
   "execution_count": 9,
   "metadata": {},
   "outputs": [
    {
     "data": {
      "text/plain": [
       "DatetimeIndex(['2001-01-02', '2001-01-02', '2001-01-02', '2001-01-02',\n",
       "               '2001-01-02', '2001-01-02', '2001-01-02', '2001-01-02',\n",
       "               '2001-01-02', '2001-01-02',\n",
       "               ...\n",
       "               '2020-06-12', '2020-06-12', '2020-06-12', '2020-06-12',\n",
       "               '2020-06-12', '2020-06-12', '2020-06-12', '2020-06-12',\n",
       "               '2020-06-12', '2020-06-12'],\n",
       "              dtype='datetime64[ns]', name='date', length=3364167, freq=None)"
      ]
     },
     "execution_count": 9,
     "metadata": {},
     "output_type": "execute_result"
    }
   ],
   "source": [
    "#df[df.index.get_level_values('stock_id')==\"1101 台泥\"]\n",
    "df.sort_index(level='date', ascending=True).index.get_level_values('date')"
   ]
  },
  {
   "cell_type": "code",
   "execution_count": null,
   "metadata": {},
   "outputs": [],
   "source": []
  }
 ],
 "metadata": {
  "kernelspec": {
   "display_name": "finlab",
   "language": "python",
   "name": "finlab"
  },
  "language_info": {
   "codemirror_mode": {
    "name": "ipython",
    "version": 3
   },
   "file_extension": ".py",
   "mimetype": "text/x-python",
   "name": "python",
   "nbconvert_exporter": "python",
   "pygments_lexer": "ipython3",
   "version": "3.6.8"
  }
 },
 "nbformat": 4,
 "nbformat_minor": 2
}
