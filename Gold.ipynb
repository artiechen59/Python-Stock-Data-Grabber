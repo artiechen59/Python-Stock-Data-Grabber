{
 "cells": [
  {
   "cell_type": "code",
   "execution_count": 29,
   "metadata": {},
   "outputs": [],
   "source": [
    "from finlab.crawler import table_date_range, update_table, to_pickle, out, commit,merge, date_range\n",
    "import datetime\n",
    "from io import StringIO\n",
    "import requests\n",
    "from bs4 import BeautifulSoup\n",
    "import time\n",
    "\n",
    "import numpy as np\n",
    "#import matplotlib.pyplot as plt\n",
    "import pandas as pd\n",
    "from pandas import ExcelWriter\n",
    "from pandas import ExcelFile\n",
    "#import pandas_datareader.data as web\n",
    "\n",
    "import os\n",
    "from openpyxl import load_workbook\n",
    "\n",
    "def getGold(date):\n",
    "    url = 'http://finmindapi.servebeer.com/api/v2/data?dataset=GoldPrice&date='+date\n",
    "    data = requests.get(url)\n",
    "    data = data.json()\n",
    "    tmp=pd.DataFrame(data['data'])\n",
    "    if len((tmp)) == 0:\n",
    "        tmp=pd.DataFrame()   # holiday\n",
    "    else:\n",
    "        tmp=tmp.iloc[[-1]]\n",
    "        print(tmp)\n",
    "    return tmp   #only return the last value"
   ]
  },
  {
   "cell_type": "code",
   "execution_count": 33,
   "metadata": {},
   "outputs": [
    {
     "name": "stdout",
     "output_type": "stream",
     "text": [
      "DatetimeIndex(['1979-01-01 00:00:00', '1979-01-02 00:00:00',\n",
      "               '1979-01-03 00:00:00', '1979-01-04 00:00:00',\n",
      "               '1979-01-05 00:00:00', '1979-01-08 00:00:00',\n",
      "               '1979-01-09 00:00:00', '1979-01-10 00:00:00',\n",
      "               '1979-01-11 00:00:00', '1979-01-12 00:00:00',\n",
      "               ...\n",
      "               '2019-12-22 15:53:02', '2019-12-23 15:48:01',\n",
      "               '2019-12-24 15:58:02', '2019-12-25 15:53:01',\n",
      "               '2019-12-26 16:00:01', '2019-12-27 15:58:02',\n",
      "               '2019-12-28 23:30:01', '2019-12-29 06:28:01',\n",
      "               '2019-12-30 15:58:02', '2019-12-31 15:58:02'],\n",
      "              dtype='datetime64[ns]', name='date', length=10907, freq=None)\n",
      "(10907, 1)\n"
     ]
    }
   ],
   "source": [
    "#get last date of database\n",
    "df = pd.read_pickle(\"history/tables/Gold.pkl\")\n",
    "print(df.index.get_level_values('date').drop_duplicates(keep = 'first') .sort_values())\n",
    "print(df.shape)"
   ]
  },
  {
   "cell_type": "code",
   "execution_count": null,
   "metadata": {},
   "outputs": [],
   "source": [
    "df_combined=pd.DataFrame()\n",
    "days=pd.date_range(start=\"2019-01-01\",end=\"2019-12-31\")\n",
    "for date in days:\n",
    "    df_tmp=getGold(str(date))\n",
    "    df_combined=df_combined.append(df_tmp)\n",
    "    #print(date,len(df_combined))\n",
    "    time.sleep(4)"
   ]
  },
  {
   "cell_type": "code",
   "execution_count": 32,
   "metadata": {},
   "outputs": [
    {
     "name": "stdout",
     "output_type": "stream",
     "text": [
      "month 1=31\n",
      "month 2=28\n",
      "month 3=31\n",
      "month 4=30\n",
      "month 5=31\n",
      "month 6=30\n",
      "month 7=31\n",
      "month 8=31\n",
      "month 9=30\n",
      "month 10=31\n",
      "month 11=30\n",
      "month 12=31\n",
      "saved to pickel successfully\n"
     ]
    }
   ],
   "source": [
    "\n",
    "df_combined=df_combined.set_index('date')\n",
    "df_combined.index = pd.to_datetime(df_combined.index)\n",
    "#print(df_combined.shape[0])\n",
    "goodMonth=0\n",
    "for i in range(1,13):\n",
    "    NumDays = df_combined[df_combined.index.month==i].shape[0]\n",
    "    if NumDays >15:\n",
    "        goodMonth=goodMonth+1\n",
    "    print('month '+ str(i) + '=' + str( NumDays))\n",
    "#print(goodMonth)\n",
    "#df_combined[df_combined.index.month==1].shape[0]\n",
    "\n",
    "if goodMonth == 12 and df_combined.shape[0] > 255:\n",
    "    df=df.append(df_combined)\n",
    "    df=df.sort_index()\n",
    "    #print(df)\n",
    "    #print(df.drop_duplicates())\n",
    "    df.to_pickle(\"./history/tables/Gold.pkl\")\n",
    "    print('saved to pickel successfully')\n",
    "else:\n",
    "    print('days not enough, check again=========')"
   ]
  },
  {
   "cell_type": "code",
   "execution_count": 138,
   "metadata": {},
   "outputs": [],
   "source": []
  },
  {
   "cell_type": "code",
   "execution_count": 93,
   "metadata": {},
   "outputs": [],
   "source": []
  },
  {
   "cell_type": "code",
   "execution_count": null,
   "metadata": {},
   "outputs": [],
   "source": []
  },
  {
   "cell_type": "code",
   "execution_count": 110,
   "metadata": {},
   "outputs": [
    {
     "name": "stdout",
     "output_type": "stream",
     "text": [
      "   Price        date\n",
      "0  512.0  1980-01-01\n"
     ]
    },
    {
     "data": {
      "text/html": [
       "<div>\n",
       "<style scoped>\n",
       "    .dataframe tbody tr th:only-of-type {\n",
       "        vertical-align: middle;\n",
       "    }\n",
       "\n",
       "    .dataframe tbody tr th {\n",
       "        vertical-align: top;\n",
       "    }\n",
       "\n",
       "    .dataframe thead th {\n",
       "        text-align: right;\n",
       "    }\n",
       "</style>\n",
       "<table border=\"1\" class=\"dataframe\">\n",
       "  <thead>\n",
       "    <tr style=\"text-align: right;\">\n",
       "      <th></th>\n",
       "      <th>Price</th>\n",
       "      <th>date</th>\n",
       "    </tr>\n",
       "  </thead>\n",
       "  <tbody>\n",
       "    <tr>\n",
       "      <th>0</th>\n",
       "      <td>512.0</td>\n",
       "      <td>1980-01-01</td>\n",
       "    </tr>\n",
       "  </tbody>\n",
       "</table>\n",
       "</div>"
      ],
      "text/plain": [
       "   Price        date\n",
       "0  512.0  1980-01-01"
      ]
     },
     "execution_count": 110,
     "metadata": {},
     "output_type": "execute_result"
    }
   ],
   "source": [
    "getGold('1980-01-01')"
   ]
  },
  {
   "cell_type": "code",
   "execution_count": 115,
   "metadata": {},
   "outputs": [],
   "source": [
    "df.to_csv(\"tmp.csv\")"
   ]
  },
  {
   "cell_type": "code",
   "execution_count": null,
   "metadata": {},
   "outputs": [],
   "source": []
  }
 ],
 "metadata": {
  "kernelspec": {
   "display_name": "finlab",
   "language": "python",
   "name": "finlab"
  },
  "language_info": {
   "codemirror_mode": {
    "name": "ipython",
    "version": 3
   },
   "file_extension": ".py",
   "mimetype": "text/x-python",
   "name": "python",
   "nbconvert_exporter": "python",
   "pygments_lexer": "ipython3",
   "version": "3.6.8"
  }
 },
 "nbformat": 4,
 "nbformat_minor": 2
}
