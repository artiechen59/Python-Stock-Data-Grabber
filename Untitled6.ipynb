{
 "cells": [
  {
   "cell_type": "code",
   "execution_count": 27,
   "metadata": {},
   "outputs": [],
   "source": [
    "import time\n",
    "import datetime\n",
    " \n",
    "import requests\n",
    "import pandas as pd\n",
    "from io import StringIO\n",
    "\n",
    "\n",
    "# 下載某天的資料\n",
    "\n",
    "URL=\"https://query1.finance.yahoo.com/v7/finance/download/%5ETWII?period1=852076800&period2=1594512000&interval=1d&events=history\"\n",
    "req = requests.get(URL)\n",
    "url_content = req.content\n",
    "csv_file = open('^TWII.csv', 'wb')\n",
    "\n",
    "csv_file.write(url_content)\n",
    "csv_file.close()\n",
    "    # 利用 pandas 將資料整理成表格\n",
    "#df = pd.read_csv(StringIO(res))    \n",
    "    \n",
    "    \n",
    "    \n",
    "    \n",
    "#dtime = datetime.datetime.today()\n",
    "dtime = datetime.datetime(2020,7,12,8,0,0)\n",
    "ans_time = time.mktime(dtime.timetuple())"
   ]
  },
  {
   "cell_type": "code",
   "execution_count": 28,
   "metadata": {},
   "outputs": [
    {
     "name": "stdout",
     "output_type": "stream",
     "text": [
      "2020-07-12 08:00:00\n",
      "1594512000.0\n"
     ]
    }
   ],
   "source": [
    "print(dtime)\n",
    "print(ans_time)"
   ]
  },
  {
   "cell_type": "code",
   "execution_count": 5,
   "metadata": {},
   "outputs": [
    {
     "name": "stdout",
     "output_type": "stream",
     "text": [
      "2020-07-12 08:00:00\n",
      "1997-01-01 08:00:00\n"
     ]
    }
   ],
   "source": [
    "unix_ts = 1594512000\n",
    "time = datetime.datetime.fromtimestamp(unix_ts)\n",
    "print(time)\n",
    "\n",
    "unix_ts = 852076800\n",
    "time = datetime.datetime.fromtimestamp(unix_ts)\n",
    "print(time)"
   ]
  },
  {
   "cell_type": "code",
   "execution_count": null,
   "metadata": {},
   "outputs": [],
   "source": [
    "from finlab.crawler import table_date_range, update_table, to_pickle, out, commit,merge\n",
    "import pandas as pd\n",
    "from pandas import ExcelWriter\n",
    "from pandas import ExcelFile\n",
    "#import pandas_datareader.data as web\n",
    "from datetime import datetime, timedelta,date\n",
    "import os\n",
    "from openpyxl import load_workbook\n",
    "\n",
    "#===========================\n",
    "https://query1.finance.yahoo.com/v7/finance/download/%5ETWII?period1=852076800&period2=1594512000&interval=1d&events=history\n",
    "#   https://finance.yahoo.com/quote/%5ETWII/history?p=%5ETWII         , select start and end date, then download the csv file\n",
    "#==================================\n",
    "\n",
    "df = pd.read_pickle(\"history/tables/TWII_complete.pkl\")\n",
    "print(df)\n",
    "\n",
    "exit()\n",
    "reader_price=pd.read_csv('^TWII.csv',index_col='Date')\n",
    "\n",
    "#print(reader_price.head())\n",
    "#print('======================')\n",
    "reader_price.index=pd.to_datetime(reader_price.index)\n",
    "#print(reader_price.head())\n",
    "\n",
    "\n",
    "reader_price.index.name = 'date'\n",
    "reader_price = reader_price.reset_index()\n",
    "reader_price['stock_id'] = '台股指數'\n",
    "reader_price = reader_price.set_index(['stock_id', 'date'])\n",
    "\n",
    "\n",
    "print(reader_price)\n",
    "reader_price.to_pickle(\"./history/tables/TWII_complete.pkl\")"
   ]
  },
  {
   "cell_type": "code",
   "execution_count": 6,
   "metadata": {},
   "outputs": [
    {
     "ename": "SyntaxError",
     "evalue": "invalid syntax (<ipython-input-6-1305e662b267>, line 1)",
     "output_type": "error",
     "traceback": [
      "\u001b[1;36m  File \u001b[1;32m\"<ipython-input-6-1305e662b267>\"\u001b[1;36m, line \u001b[1;32m1\u001b[0m\n\u001b[1;33m    https://query1.finance.yahoo.com/v7/finance/download/%5ETWII?period1=852076800&period2=1594512000&interval=1d&events=history\u001b[0m\n\u001b[1;37m           ^\u001b[0m\n\u001b[1;31mSyntaxError\u001b[0m\u001b[1;31m:\u001b[0m invalid syntax\n"
     ]
    }
   ],
   "source": []
  },
  {
   "cell_type": "code",
   "execution_count": 13,
   "metadata": {},
   "outputs": [],
   "source": [
    "\n"
   ]
  },
  {
   "cell_type": "code",
   "execution_count": 11,
   "metadata": {},
   "outputs": [
    {
     "data": {
      "text/plain": [
       "<Response [200]>"
      ]
     },
     "execution_count": 11,
     "metadata": {},
     "output_type": "execute_result"
    }
   ],
   "source": [
    "res"
   ]
  },
  {
   "cell_type": "code",
   "execution_count": null,
   "metadata": {},
   "outputs": [],
   "source": []
  }
 ],
 "metadata": {
  "kernelspec": {
   "display_name": "finlab",
   "language": "python",
   "name": "finlab"
  },
  "language_info": {
   "codemirror_mode": {
    "name": "ipython",
    "version": 3
   },
   "file_extension": ".py",
   "mimetype": "text/x-python",
   "name": "python",
   "nbconvert_exporter": "python",
   "pygments_lexer": "ipython3",
   "version": "3.6.8"
  }
 },
 "nbformat": 4,
 "nbformat_minor": 2
}
